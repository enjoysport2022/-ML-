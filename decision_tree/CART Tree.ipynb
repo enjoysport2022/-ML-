{
 "cells": [
  {
   "cell_type": "code",
   "execution_count": 9,
   "metadata": {},
   "outputs": [],
   "source": [
    "import csv\n",
    "from collections import defaultdict\n",
    "import pydotplus"
   ]
  },
  {
   "cell_type": "code",
   "execution_count": 1,
   "metadata": {},
   "outputs": [],
   "source": [
    "class Tree:\n",
    "    def __init__(self, value=None, trueBranch=None, falseBranch=None,\n",
    "                results=None, col=-1, summary=None, data=None):\n",
    "        self.value = value\n",
    "        self.trueBranch = trueBranch\n",
    "        self.falseBranch = falseBranch\n",
    "        self.results = results\n",
    "        self.col = col\n",
    "        self.summary = summary\n",
    "        self.data = data\n",
    "            "
   ]
  },
  {
   "cell_type": "code",
   "execution_count": 14,
   "metadata": {},
   "outputs": [],
   "source": [
    "def calculateDiffCount(datas):\n",
    "    results = {}\n",
    "    for data in datas:\n",
    "        if data[-1] not in results:\n",
    "            results[data[-1]] = 1\n",
    "        else:\n",
    "            results[data[-1]] += 1\n",
    "    return results"
   ]
  },
  {
   "cell_type": "code",
   "execution_count": 3,
   "metadata": {},
   "outputs": [],
   "source": [
    "def gini(rows):\n",
    "    length = len(rows)\n",
    "    results = calculateDiffCount(rows)\n",
    "    imp = 0.0\n",
    "    for i in results:\n",
    "        imp += (results[i]/length)**2\n",
    "    return 1 - imp"
   ]
  },
  {
   "cell_type": "code",
   "execution_count": 4,
   "metadata": {},
   "outputs": [],
   "source": [
    "def splitDatas(rows, value, column):\n",
    "    list1 = []\n",
    "    list2 = []\n",
    "    if (isinstance(value, int) or isinstance(value, float)):\n",
    "        for row in rows:\n",
    "            if row[column] >= value:\n",
    "                list1.append(row)\n",
    "            else:\n",
    "                list2.append(row)\n",
    "    else:\n",
    "        for row in rows:\n",
    "            if row[column] == value:\n",
    "                list1.append(row)\n",
    "            else:\n",
    "                list2.append(row)\n",
    "    return (list1, list2)"
   ]
  },
  {
   "cell_type": "code",
   "execution_count": 21,
   "metadata": {},
   "outputs": [],
   "source": [
    "def buildDecisionTree(rows, evaluationFunction=gini):\n",
    "#     递归调用决策树,当gain=0时停止递归\n",
    "    currentGain = evaluationFunction(rows)\n",
    "    column_length = len(rows[0])\n",
    "    row_length = len(rows)\n",
    "    best_gain = 0.0\n",
    "    best_value = None\n",
    "    best_set = None\n",
    "    \n",
    "    for col in range(column_length-1):\n",
    "        col_value_set = set([x[col] for x in rows])\n",
    "        for value in col_value_set:\n",
    "            list1, list2 = splitDatas(rows, value, col)\n",
    "            p = len(list1) / row_length\n",
    "            gain = currentGain - p * evaluationFunction(list1) - (1-p) * evaluationFunction(list2)\n",
    "            if gain > best_gain:\n",
    "                best_gain = gain\n",
    "                best_value = (col, value)\n",
    "                best_set = (list1, list2)\n",
    "    dcY = {'impurity': '%.3f' % currentGain, 'samples': '%d' %row_length}\n",
    "    \n",
    "#     是否停止递归\n",
    "    if best_gain > 0:\n",
    "        trueBranch = buildDecisionTree(best_set[0], evaluationFunction)\n",
    "        falseBranch = buildDecisionTree(best_set[1], evaluationFunction)\n",
    "        return Tree(col=best_value[0],value=best_value[1],trueBranch=trueBranch,falseBranch=falseBranch,summary=dcY)\n",
    "    else:\n",
    "        return Tree(results=calculateDiffCount(rows),summary=dcY,data=rows)\n",
    "  "
   ]
  },
  {
   "cell_type": "code",
   "execution_count": 26,
   "metadata": {},
   "outputs": [],
   "source": [
    "def prune(tree, miniGain, evaluationFunction=gini):\n",
    "#     减枝是从根节点传进来的,递归调用\n",
    "    if tree.trueBranch.results == None:\n",
    "        prune(tree.trueBranch, miniGain, evaluationFunction)\n",
    "    if tree.falseBranch.results == None:\n",
    "        prune(tree.falseBranch, miniGain, evaluationFunction)\n",
    "    if tree.trueBranch.results != None and tree.falseBranch.results != None:\n",
    "        len1 = len(tree.trueBranch.data)\n",
    "        len2 = len(tree.falseBranch.data)\n",
    "        len3 = len(tree.trueBranch.data + tree.falseBranch.data)\n",
    "        p = float(len1) / float(len1+len2)\n",
    "        gain = evaluationFunction(tree.trueBranch.data + tree.falseBranch.data) -\\\n",
    "            p * evaluationFunction(tree.trueBranch.data) -\\\n",
    "            (1-p) * evaluationFunction(tree.falseBranch.data)\n",
    "        if gain < miniGain:\n",
    "            tree.data = tree.trueBranch.data + tree.falseBranch.data\n",
    "            tree.results = calculateDiffCount(tree.data)\n",
    "            tree.trueBranch = None\n",
    "            tree.falseBranch = None\n",
    "        "
   ]
  },
  {
   "cell_type": "code",
   "execution_count": 27,
   "metadata": {},
   "outputs": [],
   "source": [
    "def loadCSV(file):\n",
    "    \"\"\"Loads a CSV file and converts all floats and ints into basic datatypes.\"\"\"\n",
    "    def convertTypes(s):\n",
    "        s = s.strip()\n",
    "        try:\n",
    "            return float(s) if '.' in s else int(s)\n",
    "        except ValueError:\n",
    "            return s\n",
    "\n",
    "    reader = csv.reader(open(file, 'rt'))\n",
    "    dcHeader = {}\n",
    "    if bHeader:\n",
    "        lsHeader = next(reader)\n",
    "        for i, szY in enumerate(lsHeader):\n",
    "                szCol = 'Column %d' % i\n",
    "                dcHeader[szCol] = str(szY)\n",
    "    return dcHeader, [[convertTypes(item) for item in row] for row in reader]"
   ]
  },
  {
   "cell_type": "code",
   "execution_count": 28,
   "metadata": {},
   "outputs": [],
   "source": [
    "bHeader = True\n",
    "# the bigger example\n",
    "dcHeadings, trainingData = loadCSV('fishiris.csv') # demo data from matlab\n"
   ]
  },
  {
   "cell_type": "code",
   "execution_count": 29,
   "metadata": {
    "scrolled": true
   },
   "outputs": [],
   "source": [
    "dt = buildDecisionTree(trainingData, evaluationFunction=gini)\n",
    "prune(dt, 0.4)"
   ]
  },
  {
   "cell_type": "code",
   "execution_count": 30,
   "metadata": {},
   "outputs": [
    {
     "data": {
      "text/plain": [
       "<__main__.Tree at 0x102e556a0>"
      ]
     },
     "execution_count": 30,
     "metadata": {},
     "output_type": "execute_result"
    }
   ],
   "source": [
    "dt"
   ]
  },
  {
   "cell_type": "code",
   "execution_count": 32,
   "metadata": {},
   "outputs": [],
   "source": [
    "def plot(decisionTree):\n",
    "    \"\"\"Plots the obtained decision tree. \"\"\"\n",
    "\n",
    "    def toString(decisionTree, indent=''):\n",
    "        if decisionTree.results != None:  # leaf node\n",
    "            return str(decisionTree.results)\n",
    "        else:\n",
    "            szCol = 'Column %s' % decisionTree.col\n",
    "            if szCol in dcHeadings:\n",
    "                szCol = dcHeadings[szCol]\n",
    "            if isinstance(decisionTree.value, int) or isinstance(decisionTree.value, float):\n",
    "                decision = '%s >= %s?' % (szCol, decisionTree.value)\n",
    "            else:\n",
    "                decision = '%s == %s?' % (szCol, decisionTree.value)\n",
    "            trueBranch = indent + 'yes -> ' + toString(decisionTree.trueBranch, indent + '\\t\\t')\n",
    "            falseBranch = indent + 'no  -> ' + toString(decisionTree.falseBranch, indent + '\\t\\t')\n",
    "            return (decision + '\\n' + trueBranch + '\\n' + falseBranch)\n",
    "\n",
    "    print(toString(decisionTree))"
   ]
  },
  {
   "cell_type": "code",
   "execution_count": 33,
   "metadata": {},
   "outputs": [
    {
     "name": "stdout",
     "output_type": "stream",
     "text": [
      "PetalLength >= 3?\n",
      "yes -> PetalWidth >= 1.8?\n",
      "\t\tyes -> PetalLength >= 4.9?\n",
      "\t\t\t\tyes -> {'virginica': 43}\n",
      "\t\t\t\tno  -> SepalLength >= 6?\n",
      "\t\t\t\t\t\tyes -> {'virginica': 2}\n",
      "\t\t\t\t\t\tno  -> {'versicolor': 1}\n",
      "\t\tno  -> PetalLength >= 5?\n",
      "\t\t\t\tyes -> PetalWidth >= 1.6?\n",
      "\t\t\t\t\t\tyes -> SepalLength >= 7.2?\n",
      "\t\t\t\t\t\t\t\tyes -> {'virginica': 1}\n",
      "\t\t\t\t\t\t\t\tno  -> {'versicolor': 2}\n",
      "\t\t\t\t\t\tno  -> {'virginica': 3}\n",
      "\t\t\t\tno  -> {'virginica': 1, 'versicolor': 47}\n",
      "no  -> {'setosa': 50}\n"
     ]
    }
   ],
   "source": [
    "result = plot(dt)"
   ]
  },
  {
   "cell_type": "code",
   "execution_count": null,
   "metadata": {},
   "outputs": [],
   "source": []
  }
 ],
 "metadata": {
  "kernelspec": {
   "display_name": "Python 3",
   "language": "python",
   "name": "python3"
  },
  "language_info": {
   "codemirror_mode": {
    "name": "ipython",
    "version": 3
   },
   "file_extension": ".py",
   "mimetype": "text/x-python",
   "name": "python",
   "nbconvert_exporter": "python",
   "pygments_lexer": "ipython3",
   "version": "3.7.1"
  }
 },
 "nbformat": 4,
 "nbformat_minor": 2
}
